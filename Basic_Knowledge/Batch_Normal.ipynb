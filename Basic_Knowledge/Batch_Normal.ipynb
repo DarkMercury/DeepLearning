{
 "cells": [
  {
   "cell_type": "markdown",
   "source": [
    "# Batch_Normal\n",
    "Batch_Normal可以加快神经网络的收敛速度"
   ],
   "metadata": {
    "collapsed": false,
    "pycharm": {
     "name": "#%% md\n"
    }
   }
  },
  {
   "cell_type": "code",
   "execution_count": 7,
   "outputs": [],
   "source": [
    "import torch\n",
    "from torch import nn"
   ],
   "metadata": {
    "collapsed": false,
    "pycharm": {
     "name": "#%%\n"
    }
   }
  },
  {
   "cell_type": "code",
   "execution_count": 8,
   "outputs": [
    {
     "data": {
      "text/plain": "tensor([[ 0.,  1.,  2.,  3.],\n        [ 4.,  5.,  6.,  7.],\n        [ 8.,  9., 10., 11.],\n        [12., 13., 14., 15.],\n        [16., 17., 18., 19.]])"
     },
     "execution_count": 8,
     "metadata": {},
     "output_type": "execute_result"
    }
   ],
   "source": [
    "data = torch.arange(0,20,dtype=torch.float32).reshape(5,4)\n",
    "data"
   ],
   "metadata": {
    "collapsed": false,
    "pycharm": {
     "name": "#%%\n"
    }
   }
  },
  {
   "cell_type": "markdown",
   "source": [
    "# 手动实现 Batch_Normal"
   ],
   "metadata": {
    "collapsed": false,
    "pycharm": {
     "name": "#%% md\n"
    }
   }
  },
  {
   "cell_type": "code",
   "execution_count": 9,
   "outputs": [
    {
     "data": {
      "text/plain": "tensor([[-1.4142, -1.4142, -1.4142, -1.4142],\n        [-0.7071, -0.7071, -0.7071, -0.7071],\n        [ 0.0000,  0.0000,  0.0000,  0.0000],\n        [ 0.7071,  0.7071,  0.7071,  0.7071],\n        [ 1.4142,  1.4142,  1.4142,  1.4142]])"
     },
     "execution_count": 9,
     "metadata": {},
     "output_type": "execute_result"
    }
   ],
   "source": [
    "y = (data-torch.mean(data,0,keepdim=True))/torch.sqrt(torch.var(data,0,keepdim=True,unbiased=False))  # batch_normal的标准差var是通过有偏估计计算的\n",
    "y"
   ],
   "metadata": {
    "collapsed": false,
    "pycharm": {
     "name": "#%%\n"
    }
   }
  },
  {
   "cell_type": "markdown",
   "source": [
    "# torch验证"
   ],
   "metadata": {
    "collapsed": false,
    "pycharm": {
     "name": "#%% md\n"
    }
   }
  },
  {
   "cell_type": "code",
   "execution_count": 10,
   "outputs": [],
   "source": [
    "Batch_Norm = nn.BatchNorm1d(4,eps=0)"
   ],
   "metadata": {
    "collapsed": false,
    "pycharm": {
     "name": "#%%\n"
    }
   }
  },
  {
   "cell_type": "code",
   "execution_count": 11,
   "outputs": [
    {
     "data": {
      "text/plain": "tensor([[-1.4142e+00, -1.4142e+00, -1.4142e+00, -1.4142e+00],\n        [-7.0711e-01, -7.0711e-01, -7.0711e-01, -7.0711e-01],\n        [ 0.0000e+00,  4.4703e-08, -2.9802e-08,  1.4901e-08],\n        [ 7.0711e-01,  7.0711e-01,  7.0711e-01,  7.0711e-01],\n        [ 1.4142e+00,  1.4142e+00,  1.4142e+00,  1.4142e+00]],\n       grad_fn=<NativeBatchNormBackward0>)"
     },
     "execution_count": 11,
     "metadata": {},
     "output_type": "execute_result"
    }
   ],
   "source": [
    "bn_result = Batch_Norm(data)  # 这里的输入数据类型只能为float32\n",
    "bn_result"
   ],
   "metadata": {
    "collapsed": false,
    "pycharm": {
     "name": "#%%\n"
    }
   }
  },
  {
   "cell_type": "code",
   "execution_count": 12,
   "outputs": [
    {
     "data": {
      "text/plain": "tensor([[ 8.,  9., 10., 11.]])"
     },
     "execution_count": 12,
     "metadata": {},
     "output_type": "execute_result"
    }
   ],
   "source": [
    "mean = torch.mean(data,0,keepdim=True)\n",
    "mean"
   ],
   "metadata": {
    "collapsed": false,
    "pycharm": {
     "name": "#%%\n"
    }
   }
  },
  {
   "cell_type": "code",
   "execution_count": 13,
   "outputs": [
    {
     "data": {
      "text/plain": "tensor([[32., 32., 32., 32.]])"
     },
     "execution_count": 13,
     "metadata": {},
     "output_type": "execute_result"
    }
   ],
   "source": [
    "var = torch.var(data,0,keepdim=True,unbiased=False)\n",
    "var"
   ],
   "metadata": {
    "collapsed": false,
    "pycharm": {
     "name": "#%%\n"
    }
   }
  },
  {
   "cell_type": "markdown",
   "source": [
    "# Batch_Normal2d"
   ],
   "metadata": {
    "collapsed": false,
    "pycharm": {
     "name": "#%% md\n"
    }
   }
  },
  {
   "cell_type": "code",
   "execution_count": 14,
   "outputs": [
    {
     "data": {
      "text/plain": "tensor([[[[ 0.,  1.],\n          [ 2.,  3.]],\n\n         [[ 4.,  5.],\n          [ 6.,  7.]],\n\n         [[ 8.,  9.],\n          [10., 11.]]],\n\n\n        [[[12., 13.],\n          [14., 15.]],\n\n         [[16., 17.],\n          [18., 19.]],\n\n         [[20., 21.],\n          [22., 23.]]]])"
     },
     "execution_count": 14,
     "metadata": {},
     "output_type": "execute_result"
    }
   ],
   "source": [
    "data_1 = torch.arange(0,24,dtype=torch.float32).reshape(2,3,2,2)\n",
    "data_1"
   ],
   "metadata": {
    "collapsed": false,
    "pycharm": {
     "name": "#%%\n"
    }
   }
  },
  {
   "cell_type": "code",
   "execution_count": 15,
   "outputs": [
    {
     "data": {
      "text/plain": "tensor([[[[-1.2288, -1.0650],\n          [-0.9012, -0.7373]],\n\n         [[-1.2288, -1.0650],\n          [-0.9012, -0.7373]],\n\n         [[-1.2288, -1.0650],\n          [-0.9012, -0.7373]]],\n\n\n        [[[ 0.7373,  0.9012],\n          [ 1.0650,  1.2288]],\n\n         [[ 0.7373,  0.9012],\n          [ 1.0650,  1.2288]],\n\n         [[ 0.7373,  0.9012],\n          [ 1.0650,  1.2288]]]])"
     },
     "execution_count": 15,
     "metadata": {},
     "output_type": "execute_result"
    }
   ],
   "source": [
    "y_2d = (data_1-torch.mean(data_1,[0,2,3],keepdim=True))/torch.sqrt(torch.var(data_1,[0,2,3],keepdim=True,unbiased=False))\n",
    "y_2d"
   ],
   "metadata": {
    "collapsed": false,
    "pycharm": {
     "name": "#%%\n"
    }
   }
  },
  {
   "cell_type": "code",
   "execution_count": 16,
   "outputs": [],
   "source": [
    "Batch_Norm2d = nn.BatchNorm2d(3)"
   ],
   "metadata": {
    "collapsed": false,
    "pycharm": {
     "name": "#%%\n"
    }
   }
  },
  {
   "cell_type": "code",
   "execution_count": 17,
   "outputs": [
    {
     "data": {
      "text/plain": "tensor([[[[-1.2288, -1.0650],\n          [-0.9012, -0.7373]],\n\n         [[-1.2288, -1.0650],\n          [-0.9012, -0.7373]],\n\n         [[-1.2288, -1.0650],\n          [-0.9012, -0.7373]]],\n\n\n        [[[ 0.7373,  0.9012],\n          [ 1.0650,  1.2288]],\n\n         [[ 0.7373,  0.9012],\n          [ 1.0650,  1.2288]],\n\n         [[ 0.7373,  0.9012],\n          [ 1.0650,  1.2288]]]], grad_fn=<NativeBatchNormBackward0>)"
     },
     "execution_count": 17,
     "metadata": {},
     "output_type": "execute_result"
    }
   ],
   "source": [
    "bn_2d = Batch_Norm2d(data_1)\n",
    "bn_2d"
   ],
   "metadata": {
    "collapsed": false,
    "pycharm": {
     "name": "#%%\n"
    }
   }
  },
  {
   "cell_type": "markdown",
   "source": [
    "# Summary\n",
    "batch_normal 是对整个batch在特征维度上的平均\n",
    "特别是对于3维度向量(2,3,2,2)\n",
    "即对3的每个通道进行平均\n",
    "第一个通道 (0+1+2+3+12+13+14+15)/8 = 7.5"
   ],
   "metadata": {
    "collapsed": false,
    "pycharm": {
     "name": "#%% md\n"
    }
   }
  },
  {
   "cell_type": "code",
   "execution_count": 18,
   "outputs": [
    {
     "data": {
      "text/plain": "tensor([[[[ 7.5000]],\n\n         [[11.5000]],\n\n         [[15.5000]]]])"
     },
     "execution_count": 18,
     "metadata": {},
     "output_type": "execute_result"
    }
   ],
   "source": [
    "mean = torch.mean(data_1,[0,2,3],keepdim=True)\n",
    "mean"
   ],
   "metadata": {
    "collapsed": false,
    "pycharm": {
     "name": "#%%\n"
    }
   }
  },
  {
   "cell_type": "code",
   "execution_count": 16,
   "outputs": [
    {
     "data": {
      "text/plain": "tensor([[[[-1.2288, -1.0650],\n          [-0.9012, -0.7373]],\n\n         [[-1.2288, -1.0650],\n          [-0.9012, -0.7373]],\n\n         [[-1.2288, -1.0650],\n          [-0.9012, -0.7373]]],\n\n\n        [[[ 0.7373,  0.9012],\n          [ 1.0650,  1.2288]],\n\n         [[ 0.7373,  0.9012],\n          [ 1.0650,  1.2288]],\n\n         [[ 0.7373,  0.9012],\n          [ 1.0650,  1.2288]]]])"
     },
     "execution_count": 16,
     "metadata": {},
     "output_type": "execute_result"
    }
   ],
   "source": [
    "y_2d = (data_1-torch.mean(data_1,[0,2,3],keepdim=True))/torch.sqrt(torch.var(data_1,[0,2,3],keepdim=True,unbiased=False))\n",
    "y_2d"
   ],
   "metadata": {
    "collapsed": false,
    "pycharm": {
     "name": "#%%\n"
    }
   }
  },
  {
   "cell_type": "code",
   "execution_count": 18,
   "outputs": [],
   "source": [
    "Batch_Norm2d = nn.BatchNorm2d(3)"
   ],
   "metadata": {
    "collapsed": false,
    "pycharm": {
     "name": "#%%\n"
    }
   }
  },
  {
   "cell_type": "code",
   "execution_count": 19,
   "outputs": [
    {
     "data": {
      "text/plain": "tensor([[[[-1.2288, -1.0650],\n          [-0.9012, -0.7373]],\n\n         [[-1.2288, -1.0650],\n          [-0.9012, -0.7373]],\n\n         [[-1.2288, -1.0650],\n          [-0.9012, -0.7373]]],\n\n\n        [[[ 0.7373,  0.9012],\n          [ 1.0650,  1.2288]],\n\n         [[ 0.7373,  0.9012],\n          [ 1.0650,  1.2288]],\n\n         [[ 0.7373,  0.9012],\n          [ 1.0650,  1.2288]]]], grad_fn=<NativeBatchNormBackward0>)"
     },
     "execution_count": 19,
     "metadata": {},
     "output_type": "execute_result"
    }
   ],
   "source": [
    "bn_2d = Batch_Norm2d(data_1)\n",
    "bn_2d"
   ],
   "metadata": {
    "collapsed": false,
    "pycharm": {
     "name": "#%%\n"
    }
   }
  },
  {
   "cell_type": "markdown",
   "source": [
    "# Summary\n",
    "batch_normal 是对整个batch在特征维度上的平均\n",
    "特别是对于3维度向量(2,3,2,2)\n",
    "即对3的每个通道进行平均\n",
    "第一个通道 (0+1+2+3+12+13+14+15)/8 = 7.5"
   ],
   "metadata": {
    "collapsed": false,
    "pycharm": {
     "name": "#%% md\n"
    }
   }
  },
  {
   "cell_type": "code",
   "execution_count": 20,
   "outputs": [
    {
     "data": {
      "text/plain": "tensor([[[[ 7.5000]],\n\n         [[11.5000]],\n\n         [[15.5000]]]])"
     },
     "execution_count": 20,
     "metadata": {},
     "output_type": "execute_result"
    }
   ],
   "source": [
    "mean = torch.mean(data_1,[0,2,3],keepdim=True)\n",
    "mean"
   ],
   "metadata": {
    "collapsed": false,
    "pycharm": {
     "name": "#%%\n"
    }
   }
  },
  {
   "cell_type": "code",
   "execution_count": null,
   "outputs": [],
   "source": [],
   "metadata": {
    "collapsed": false,
    "pycharm": {
     "name": "#%%\n"
    }
   }
  }
 ],
 "metadata": {
  "kernelspec": {
   "display_name": "Python 3",
   "language": "python",
   "name": "python3"
  },
  "language_info": {
   "codemirror_mode": {
    "name": "ipython",
    "version": 2
   },
   "file_extension": ".py",
   "mimetype": "text/x-python",
   "name": "python",
   "nbconvert_exporter": "python",
   "pygments_lexer": "ipython2",
   "version": "2.7.6"
  }
 },
 "nbformat": 4,
 "nbformat_minor": 0
}